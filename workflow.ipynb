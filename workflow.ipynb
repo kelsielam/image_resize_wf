{
 "cells": [
  {
   "cell_type": "code",
   "execution_count": 1,
   "metadata": {},
   "outputs": [
    {
     "data": {
      "text/html": [
       "<style>.container { width:80% !important; }</style>"
      ],
      "text/plain": [
       "<IPython.core.display.HTML object>"
      ]
     },
     "metadata": {},
     "output_type": "display_data"
    }
   ],
   "source": [
    "from IPython.core.display import display, HTML\n",
    "display(HTML(\"<style>.container { width:80% !important; }</style>\"))"
   ]
  },
  {
   "cell_type": "markdown",
   "metadata": {},
   "source": [
    "Step 1: Load images from images folder to pegasus replica catalog <br>\n",
    "Step 2: Add python script that resizes the images to a transformation catalog <br>\n",
    "Step 3: Define the outputs of this transformation as pegasus File objects <br>\n",
    "Step 4: Create/define a job that executes the transformation <br>\n",
    "Step 5: Define a pegasus workflow <br>"
   ]
  },
  {
   "cell_type": "code",
   "execution_count": 2,
   "metadata": {},
   "outputs": [],
   "source": [
    "import glob\n",
    "imagesList= glob.glob('Images/*.jpeg')"
   ]
  },
  {
   "cell_type": "code",
   "execution_count": 3,
   "metadata": {},
   "outputs": [
    {
     "data": {
      "text/plain": [
       "['Images/img2.jpeg', 'Images/img3.jpeg', 'Images/img1.jpeg', 'Images/img.jpeg']"
      ]
     },
     "execution_count": 3,
     "metadata": {},
     "output_type": "execute_result"
    }
   ],
   "source": [
    "imagesList"
   ]
  },
  {
   "cell_type": "code",
   "execution_count": 4,
   "metadata": {},
   "outputs": [],
   "source": [
    "import logging\n",
    "\n",
    "from Pegasus.api import *\n",
    "\n",
    "logging.basicConfig(level=logging.DEBUG)"
   ]
  },
  {
   "cell_type": "code",
   "execution_count": 5,
   "metadata": {},
   "outputs": [],
   "source": [
    "rc=ReplicaCatalog()\n",
    "inputFiles = []\n",
    "for img in imagesList:\n",
    "    fileName= img.split(\"/\")[1]\n",
    "    img_file = File(fileName)\n",
    "    inputFiles.append(img_file)\n",
    "    rc.add_replica(\"local\", img_file, \"/home/scitech/shared-data/sample-images-wf/\"+str(img))\n",
    "rc.write()"
   ]
  },
  {
   "cell_type": "code",
   "execution_count": 6,
   "metadata": {},
   "outputs": [
    {
     "data": {
      "text/plain": [
       "[<File img2.jpeg>, <File img3.jpeg>, <File img1.jpeg>, <File img.jpeg>]"
      ]
     },
     "execution_count": 6,
     "metadata": {},
     "output_type": "execute_result"
    }
   ],
   "source": [
    "inputFiles"
   ]
  },
  {
   "cell_type": "code",
   "execution_count": 7,
   "metadata": {},
   "outputs": [],
   "source": [
    "image_resize = Transformation(\n",
    "                \"image_resize\",\n",
    "                site=\"local\",\n",
    "                pfn=\"/home/scitech/shared-data/sample-images-wf/img_resize.py\",\n",
    "                is_stageable=True\n",
    "            )"
   ]
  },
  {
   "cell_type": "code",
   "execution_count": 8,
   "metadata": {},
   "outputs": [],
   "source": [
    "tc = TransformationCatalog()\n",
    "tc.add_transformations(image_resize)\n",
    "tc.write()"
   ]
  },
  {
   "cell_type": "code",
   "execution_count": 9,
   "metadata": {},
   "outputs": [],
   "source": [
    "resizeImages=[]\n",
    "counter=0\n",
    "for img in imagesList:\n",
    "    resize_img = File(\"image_\"+str(counter) +\".jpeg\")\n",
    "    resizeImages.append(resize_img)\n",
    "    counter+=1   "
   ]
  },
  {
   "cell_type": "code",
   "execution_count": 10,
   "metadata": {},
   "outputs": [
    {
     "data": {
      "text/plain": [
       "[<File image_0.jpeg>,\n",
       " <File image_1.jpeg>,\n",
       " <File image_2.jpeg>,\n",
       " <File image_3.jpeg>]"
      ]
     },
     "execution_count": 10,
     "metadata": {},
     "output_type": "execute_result"
    }
   ],
   "source": [
    "resizeImages"
   ]
  },
  {
   "cell_type": "code",
   "execution_count": 11,
   "metadata": {},
   "outputs": [
    {
     "data": {
      "text/plain": [
       "<Pegasus.api.workflow.Job at 0x7f65cc155160>"
      ]
     },
     "execution_count": 11,
     "metadata": {},
     "output_type": "execute_result"
    }
   ],
   "source": [
    "wf = Workflow(\"image_resize_wf\")\n",
    "\n",
    "# resize images\n",
    "job_image_resize = Job(image_resize)\n",
    "job_image_resize.add_inputs(*inputFiles)\n",
    "job_image_resize.add_outputs(*resizeImages)"
   ]
  },
  {
   "cell_type": "code",
   "execution_count": 12,
   "metadata": {},
   "outputs": [
    {
     "name": "stderr",
     "output_type": "stream",
     "text": [
      "\n",
      "################\n",
      "# pegasus-plan #\n",
      "################\n",
      "[main] WARN  schema.JsonMetaSchema  - Unknown keyword $defs - you should define your own Meta Schema. If the keyword is irrelevant for validation, just use a NonValidationKeyword\n",
      "[main] WARN  schema.JsonMetaSchema  - Unknown keyword additionalItems - you should define your own Meta Schema. If the keyword is irrelevant for validation, just use a NonValidationKeyword\n",
      "[main] WARN  schema.JsonMetaSchema  - Unknown keyword examples - you should define your own Meta Schema. If the keyword is irrelevant for validation, just use a NonValidationKeyword\n",
      "2020.08.15 01:26:07.153 UTC:\n",
      "2020.08.15 01:26:07.184 UTC:   -----------------------------------------------------------------------\n",
      "2020.08.15 01:26:07.202 UTC:   File for submitting this DAG to HTCondor           : image_resize_wf-0.dag.condor.sub\n",
      "2020.08.15 01:26:07.218 UTC:   Log of DAGMan debugging messages                 : image_resize_wf-0.dag.dagman.out\n",
      "2020.08.15 01:26:07.243 UTC:   Log of HTCondor library output                     : image_resize_wf-0.dag.lib.out\n",
      "2020.08.15 01:26:07.252 UTC:   Log of HTCondor library error messages             : image_resize_wf-0.dag.lib.err\n",
      "2020.08.15 01:26:07.258 UTC:   Log of the life of condor_dagman itself          : image_resize_wf-0.dag.dagman.log\n",
      "2020.08.15 01:26:07.273 UTC:\n",
      "2020.08.15 01:26:07.282 UTC:   -no_submit given, not submitting DAG to HTCondor.  You can do this with:\n",
      "2020.08.15 01:26:07.297 UTC:   -----------------------------------------------------------------------\n",
      "2020.08.15 01:26:11.489 UTC:   Your database is compatible with Pegasus version: 5.0.0dev\n",
      "2020.08.15 01:26:14.126 UTC:   Created Pegasus database in: sqlite:////home/scitech/shared-data/sample-images-wf/scitech/pegasus/image_resize_wf/run0003/image_resize_wf-0.replicas.db\n",
      "2020.08.15 01:26:14.131 UTC:   Your database is compatible with Pegasus version: 5.0.0dev\n",
      "2020.08.15 01:26:14.322 UTC:   Output replica catalog set to jdbc:sqlite:/home/scitech/shared-data/sample-images-wf/scitech/pegasus/image_resize_wf/run0003/image_resize_wf-0.replicas.db\n",
      "2020.08.15 01:26:14.728 UTC:   Submitting to condor image_resize_wf-0.dag.condor.sub\n",
      "2020.08.15 01:26:14.860 UTC:\n",
      "2020.08.15 01:26:14.877 UTC:   Your workflow has been started and is running in the base directory:\n",
      "2020.08.15 01:26:14.901 UTC:\n",
      "2020.08.15 01:26:14.913 UTC:   /home/scitech/shared-data/sample-images-wf/scitech/pegasus/image_resize_wf/run0003\n",
      "2020.08.15 01:26:14.927 UTC:\n",
      "2020.08.15 01:26:14.945 UTC:   *** To monitor the workflow you can run ***\n",
      "2020.08.15 01:26:14.970 UTC:\n",
      "2020.08.15 01:26:14.978 UTC:   pegasus-status -l /home/scitech/shared-data/sample-images-wf/scitech/pegasus/image_resize_wf/run0003\n",
      "2020.08.15 01:26:14.984 UTC:\n",
      "2020.08.15 01:26:15.002 UTC:   *** To remove your workflow run ***\n",
      "2020.08.15 01:26:15.024 UTC:\n",
      "2020.08.15 01:26:15.086 UTC:   pegasus-remove /home/scitech/shared-data/sample-images-wf/scitech/pegasus/image_resize_wf/run0003\n",
      "2020.08.15 01:26:15.957 UTC:   Time taken to execute is 12.425 seconds\n",
      "\n"
     ]
    },
    {
     "name": "stdout",
     "output_type": "stream",
     "text": [
      "[\u001b[1;32m##################################################\u001b[0m] 100.0% ..Success (\u001b[1;32mCompleted: 9\u001b[0m, \u001b[1;33mQueued: 0\u001b[0m, \u001b[1;36mRunning: 0\u001b[0m, \u001b[1;31mFailed: 0\u001b[0m)\n"
     ]
    },
    {
     "name": "stderr",
     "output_type": "stream",
     "text": [
      "\n",
      "######################\n",
      "# pegasus-statistics #\n",
      "######################\n",
      "Your database is compatible with Pegasus version: 5.0.0dev\n",
      "\n",
      "#\n",
      "# Pegasus Workflow Management System - http://pegasus.isi.edu\n",
      "#\n",
      "# Workflow summary:\n",
      "#   Summary of the workflow execution. It shows total\n",
      "#   tasks/jobs/sub workflows run, how many succeeded/failed etc.\n",
      "#   In case of hierarchical workflow the calculation shows the\n",
      "#   statistics across all the sub workflows.It shows the following\n",
      "#   statistics about tasks, jobs and sub workflows.\n",
      "#     * Succeeded - total count of succeeded tasks/jobs/sub workflows.\n",
      "#     * Failed - total count of failed tasks/jobs/sub workflows.\n",
      "#     * Incomplete - total count of tasks/jobs/sub workflows that are\n",
      "#       not in succeeded or failed state. This includes all the jobs\n",
      "#       that are not submitted, submitted but not completed etc. This\n",
      "#       is calculated as  difference between 'total' count and sum of\n",
      "#       'succeeded' and 'failed' count.\n",
      "#     * Total - total count of tasks/jobs/sub workflows.\n",
      "#     * Retries - total retry count of tasks/jobs/sub workflows.\n",
      "#     * Total+Retries - total count of tasks/jobs/sub workflows executed\n",
      "#       during workflow run. This is the cumulative of retries,\n",
      "#       succeeded and failed count.\n",
      "# Workflow wall time:\n",
      "#   The wall time from the start of the workflow execution to the end as\n",
      "#   reported by the DAGMAN.In case of rescue dag the value is the\n",
      "#   cumulative of all retries.\n",
      "# Cumulative job wall time:\n",
      "#   The sum of the wall time of all jobs as reported by kickstart.\n",
      "#   In case of job retries the value is the cumulative of all retries.\n",
      "#   For workflows having sub workflow jobs (i.e SUBDAG and SUBDAX jobs),\n",
      "#   the wall time value includes jobs from the sub workflows as well.\n",
      "# Cumulative job wall time as seen from submit side:\n",
      "\n"
     ]
    }
   ],
   "source": [
    "# add jobs to workflow\n",
    "wf.add_jobs(\n",
    "    job_image_resize\n",
    ")\n",
    "\n",
    "# run workflow\n",
    "try:\n",
    "    wf.plan(submit=True)\n",
    "    wf.wait()\n",
    "    wf.statistics()\n",
    "except PegasusClientError as e:\n",
    "    print(e.output)"
   ]
  },
  {
   "cell_type": "code",
   "execution_count": 11,
   "metadata": {},
   "outputs": [
    {
     "name": "stdout",
     "output_type": "stream",
     "text": [
      "/home/scitech/shared-data/sample-images-wf\r\n"
     ]
    }
   ],
   "source": [
    "! pwd"
   ]
  },
  {
   "cell_type": "code",
   "execution_count": null,
   "metadata": {},
   "outputs": [],
   "source": []
  },
  {
   "cell_type": "code",
   "execution_count": null,
   "metadata": {},
   "outputs": [],
   "source": []
  },
  {
   "cell_type": "code",
   "execution_count": null,
   "metadata": {},
   "outputs": [],
   "source": []
  },
  {
   "cell_type": "code",
   "execution_count": null,
   "metadata": {},
   "outputs": [],
   "source": []
  }
 ],
 "metadata": {
  "kernelspec": {
   "display_name": "Python 3",
   "language": "python",
   "name": "python3"
  },
  "language_info": {
   "codemirror_mode": {
    "name": "ipython",
    "version": 3
   },
   "file_extension": ".py",
   "mimetype": "text/x-python",
   "name": "python",
   "nbconvert_exporter": "python",
   "pygments_lexer": "ipython3",
   "version": "3.6.8"
  }
 },
 "nbformat": 4,
 "nbformat_minor": 4
}
